{
  "nbformat": 4,
  "nbformat_minor": 0,
  "metadata": {
    "colab": {
      "name": "MNIST_TF2_Colab.ipynb",
      "provenance": [],
      "toc_visible": true
    },
    "language_info": {
      "codemirror_mode": {
        "name": "ipython",
        "version": 3
      },
      "file_extension": ".py",
      "mimetype": "text/x-python",
      "name": "python",
      "nbconvert_exporter": "python",
      "pygments_lexer": "ipython3",
      "version": "3.5.2"
    },
    "kernelspec": {
      "name": "python3",
      "display_name": "Python 3"
    },
    "accelerator": "GPU"
  },
  "cells": [
    {
      "metadata": {
        "id": "ChDrYKbl1wmq"
      },
      "cell_type": "markdown",
      "source": [
        "# Blog post\n",
        "Code presented below is a part of the blog post describing of how to run TensorFlow Lite model on mobile device. [Link to the blog post](https://medium.com/@froger_mcs/mobile-intelligence-tensorflow-lite-classification-on-android-c081278d9961).\n",
        "\n",
        "# MNIST for mobile devs\n",
        "\n",
        "This notebook is just the longer, more detailed version of [Get Started with TensorFlow](https://www.tensorflow.org/tutorials/) ([Colab notebook](https://colab.research.google.com/github/tensorflow/docs/blob/master/site/en/tutorials/_index.ipynb#scrollTo=T4JfEh7kvx6m)). The intention here is to show the way of thinking that can be useful for you, as a consumer of TensorFlow model. It shows where some numbers come from, so you know how to plug in your first model to Android or any other platform supporting TensorFlow lite.\n",
        "\n",
        "**Hey, mobile engineer**, look for -> (⚠️📲👀). It can be useful information for you while implementing MNIST model in mobile app."
      ]
    },
    {
      "metadata": {
        "id": "_Zjg02_eA0-3"
      },
      "cell_type": "markdown",
      "source": [
        "## TensorFlow 2.0 alpha and Colaboratory\n",
        "Examples presented in this notebook are built on top of TensorFlow 2.0 alpha version. As long as it's not a stable version yet, there is no guarantee that anything here will work as it should. \n",
        "\n",
        "This notebook was created only for the Colaboratory environment. It requires some changes to make it working on Docker environment described in linked blog post.\n",
        "\n",
        "### GPU support\n",
        "The good thing about Colab is that it supports GPU envinronment without additional work. Just open **Runtime -> Change runtime type** and make sure that GPU is selected. The training process of this notebook should be about 3 times faster than on CPU env."
      ]
    },
    {
      "metadata": {
        "id": "YJ4mha9e3ba0",
        "outputId": "32f0b266-cfd0-4d79-ad22-537259b97086",
        "colab": {
          "base_uri": "https://localhost:8080/",
          "height": 360
        }
      },
      "cell_type": "code",
      "source": [
        "# Install TensorFlow 2.0 alpha\n",
        "!pip install tensorflow-gpu==2.0.0-alpha0"
      ],
      "execution_count": null,
      "outputs": [
        {
          "output_type": "stream",
          "text": [
            "Requirement already satisfied: tensorflow-gpu==2.0.0-alpha0 in /usr/local/lib/python3.6/dist-packages (2.0.0a0)\n",
            "Requirement already satisfied: absl-py>=0.7.0 in /usr/local/lib/python3.6/dist-packages (from tensorflow-gpu==2.0.0-alpha0) (0.7.1)\n",
            "Requirement already satisfied: tb-nightly<1.14.0a20190302,>=1.14.0a20190301 in /usr/local/lib/python3.6/dist-packages (from tensorflow-gpu==2.0.0-alpha0) (1.14.0a20190301)\n",
            "Requirement already satisfied: keras-preprocessing>=1.0.5 in /usr/local/lib/python3.6/dist-packages (from tensorflow-gpu==2.0.0-alpha0) (1.0.9)\n",
            "Requirement already satisfied: google-pasta>=0.1.2 in /usr/local/lib/python3.6/dist-packages (from tensorflow-gpu==2.0.0-alpha0) (0.1.5)\n",
            "Requirement already satisfied: termcolor>=1.1.0 in /usr/local/lib/python3.6/dist-packages (from tensorflow-gpu==2.0.0-alpha0) (1.1.0)\n",
            "Requirement already satisfied: gast>=0.2.0 in /usr/local/lib/python3.6/dist-packages (from tensorflow-gpu==2.0.0-alpha0) (0.2.2)\n",
            "Requirement already satisfied: tf-estimator-nightly<1.14.0.dev2019030116,>=1.14.0.dev2019030115 in /usr/local/lib/python3.6/dist-packages (from tensorflow-gpu==2.0.0-alpha0) (1.14.0.dev2019030115)\n",
            "Requirement already satisfied: numpy<2.0,>=1.14.5 in /usr/local/lib/python3.6/dist-packages (from tensorflow-gpu==2.0.0-alpha0) (1.16.2)\n",
            "Requirement already satisfied: protobuf>=3.6.1 in /usr/local/lib/python3.6/dist-packages (from tensorflow-gpu==2.0.0-alpha0) (3.7.1)\n",
            "Requirement already satisfied: grpcio>=1.8.6 in /usr/local/lib/python3.6/dist-packages (from tensorflow-gpu==2.0.0-alpha0) (1.15.0)\n",
            "Requirement already satisfied: wheel>=0.26 in /usr/local/lib/python3.6/dist-packages (from tensorflow-gpu==2.0.0-alpha0) (0.33.1)\n",
            "Requirement already satisfied: six>=1.10.0 in /usr/local/lib/python3.6/dist-packages (from tensorflow-gpu==2.0.0-alpha0) (1.12.0)\n",
            "Requirement already satisfied: astor>=0.6.0 in /usr/local/lib/python3.6/dist-packages (from tensorflow-gpu==2.0.0-alpha0) (0.7.1)\n",
            "Requirement already satisfied: keras-applications>=1.0.6 in /usr/local/lib/python3.6/dist-packages (from tensorflow-gpu==2.0.0-alpha0) (1.0.7)\n",
            "Requirement already satisfied: werkzeug>=0.11.15 in /usr/local/lib/python3.6/dist-packages (from tb-nightly<1.14.0a20190302,>=1.14.0a20190301->tensorflow-gpu==2.0.0-alpha0) (0.15.2)\n",
            "Requirement already satisfied: markdown>=2.6.8 in /usr/local/lib/python3.6/dist-packages (from tb-nightly<1.14.0a20190302,>=1.14.0a20190301->tensorflow-gpu==2.0.0-alpha0) (3.1)\n",
            "Requirement already satisfied: setuptools in /usr/local/lib/python3.6/dist-packages (from protobuf>=3.6.1->tensorflow-gpu==2.0.0-alpha0) (40.9.0)\n",
            "Requirement already satisfied: h5py in /usr/local/lib/python3.6/dist-packages (from keras-applications>=1.0.6->tensorflow-gpu==2.0.0-alpha0) (2.8.0)\n"
          ],
          "name": "stdout"
        }
      ]
    },
    {
      "metadata": {
        "id": "Kq1imwCh1wmr",
        "outputId": "86652d29-c778-4bf9-c0bc-737ce369b7a0",
        "colab": {
          "base_uri": "https://localhost:8080/",
          "height": 68
        }
      },
      "cell_type": "code",
      "source": [
        "# TensorFlow and tf.keras\n",
        "import tensorflow as tf\n",
        "from tensorflow import keras\n",
        "\n",
        "# Helper libraries\n",
        "import numpy as np\n",
        "import matplotlib.pyplot as plt\n",
        "\n",
        "# Get some knowledge about current environment \n",
        "print(\"TensorFlow version {}\".format(tf.__version__))\n",
        "print(\"Eager mode: \", tf.executing_eagerly())\n",
        "print(\"Is GPU available: \", tf.test.is_gpu_available())"
      ],
      "execution_count": null,
      "outputs": [
        {
          "output_type": "stream",
          "text": [
            "TensorFlow version 2.0.0-alpha0\n",
            "Eager mode:  True\n",
            "Is GPU available:  True\n"
          ],
          "name": "stdout"
        }
      ]
    },
    {
      "metadata": {
        "id": "cO-Vs3u61wmw"
      },
      "cell_type": "markdown",
      "source": [
        "Load MNIST dataset:"
      ]
    },
    {
      "metadata": {
        "id": "CRHEtXwz1wmx"
      },
      "cell_type": "code",
      "source": [
        "mnist = tf.keras.datasets.mnist\n",
        "(images_train, labels_train),(images_test, labels_test) = mnist.load_data()\n",
        "class_names = [\"zero\",\"one\",\"two\",\"three\",\"four\",\"five\",\"six\",\"seven\",\"eight\",\"nine\"]"
      ],
      "execution_count": null,
      "outputs": []
    },
    {
      "metadata": {
        "id": "yRYn8WDQ1wmz"
      },
      "cell_type": "markdown",
      "source": [
        "## What is our training data?"
      ]
    },
    {
      "metadata": {
        "id": "PNI4xGVH1wmz"
      },
      "cell_type": "markdown",
      "source": [
        "### Training images"
      ]
    },
    {
      "metadata": {
        "id": "3RhLqzIg1wm0",
        "outputId": "ad2144fb-3e89-4e3a-be65-faf019e991ab",
        "colab": {
          "base_uri": "https://localhost:8080/",
          "height": 51
        }
      },
      "cell_type": "code",
      "source": [
        "print(\"Data type:\", type(images_train))\n",
        "print(\"Dataset shape:\", (images_train.shape))"
      ],
      "execution_count": null,
      "outputs": [
        {
          "output_type": "stream",
          "text": [
            "Data type: <class 'numpy.ndarray'>\n",
            "Dataset shape: (60000, 28, 28)\n"
          ],
          "name": "stdout"
        }
      ]
    },
    {
      "metadata": {
        "id": "mxJd1HQp1wm3"
      },
      "cell_type": "markdown",
      "source": [
        "It means that we get array of 60000 images for training, 28x28 pixels each."
      ]
    },
    {
      "metadata": {
        "id": "QSn4jPjx1wm3"
      },
      "cell_type": "markdown",
      "source": [
        "### Labels"
      ]
    },
    {
      "metadata": {
        "id": "Tr0L4tyE1wm4",
        "outputId": "c8131d1c-bb5e-4b72-d148-e6a829a8c3da",
        "colab": {
          "base_uri": "https://localhost:8080/",
          "height": 51
        }
      },
      "cell_type": "code",
      "source": [
        "print(\"Labels:\", len(labels_train))\n",
        "print(\"Possible values:\", np.unique(labels_train))"
      ],
      "execution_count": null,
      "outputs": [
        {
          "output_type": "stream",
          "text": [
            "Labels: 60000\n",
            "Possible values: [0 1 2 3 4 5 6 7 8 9]\n"
          ],
          "name": "stdout"
        }
      ]
    },
    {
      "metadata": {
        "id": "Y-9sCbF31wm6"
      },
      "cell_type": "markdown",
      "source": [
        "### Example image"
      ]
    },
    {
      "metadata": {
        "id": "WX5NAAOm1wm7",
        "outputId": "c24bc748-33b6-4ab1-fe6b-257174223b06",
        "colab": {
          "base_uri": "https://localhost:8080/",
          "height": 283
        }
      },
      "cell_type": "code",
      "source": [
        "plt.figure()\n",
        "plt.imshow(images_train[0])\n",
        "plt.colorbar()\n",
        "plt.grid(False)\n",
        "plt.xlabel(\"Classification label: {}\".format(labels_train[0]))\n",
        "plt.show()"
      ],
      "execution_count": null,
      "outputs": [
        {
          "output_type": "display_data",
          "data": {
            "image/png": "[encoded data removed]",
            "text/plain": [
              "<Figure size 432x288 with 2 Axes>"
            ]
          },
          "metadata": {
            "tags": []
          }
        }
      ]
    },
    {
      "metadata": {
        "id": "qRbcpDsk1wm-"
      },
      "cell_type": "markdown",
      "source": [
        "Each cell (pixel) can have value from 0 to 255 like it's presented above. \n",
        "\n",
        "Let's scale it to float value between 0 and 1:"
      ]
    },
    {
      "metadata": {
        "id": "-yjA7qA31wm-"
      },
      "cell_type": "code",
      "source": [
        "images_train = images_train / 255.0\n",
        "images_test = images_test / 255.0"
      ],
      "execution_count": null,
      "outputs": []
    },
    {
      "metadata": {
        "id": "ir0T0wSM1wnC",
        "outputId": "1a658473-666a-4788-c830-d16718067589",
        "colab": {
          "base_uri": "https://localhost:8080/",
          "height": 283
        }
      },
      "cell_type": "code",
      "source": [
        "plt.figure()\n",
        "plt.imshow(images_train[0])\n",
        "plt.colorbar()\n",
        "plt.grid(False)\n",
        "plt.xlabel(\"Classification label: {}\".format(labels_train[0]))\n",
        "plt.show()"
      ],
      "execution_count": null,
      "outputs": [
        {
          "output_type": "display_data",
          "data": {
            "image/png": "[encoded data removed]",
            "text/plain": [
              "<Figure size 432x288 with 2 Axes>"
            ]
          },
          "metadata": {
            "tags": []
          }
        }
      ]
    },
    {
      "metadata": {
        "id": "XL58dJYI1wnF"
      },
      "cell_type": "markdown",
      "source": [
        "---\n",
        "(⚠️📲👀)\n",
        "\n",
        "It is worth mentioning that input images are inverted (white number on black background). MNIST data is prepared in a way where the smaller pixel's value is, the whiter it is (0 means 100% white, 255 means 100% black). \n",
        "\n",
        "It's important because when you plug in model to an Android app, you will need to prepare input image in the same way (scale down and inverse colors)."
      ]
    },
    {
      "metadata": {
        "id": "pc1vsV7d1wnF",
        "outputId": "f274929a-8ca4-4e83-9172-3d6704597aa0",
        "colab": {
          "base_uri": "https://localhost:8080/",
          "height": 145
        }
      },
      "cell_type": "code",
      "source": [
        "plt.figure(figsize=(10, 10))\n",
        "\n",
        "plt.subplot(3, 6, 1)\n",
        "plt.xticks([])\n",
        "plt.yticks([])\n",
        "plt.xlabel(\"Inverse\")\n",
        "plt.imshow(images_train[0], cmap=plt.cm.binary)\n",
        "\n",
        "plt.subplot(3, 6, 2)\n",
        "plt.xticks([])\n",
        "plt.yticks([])\n",
        "plt.xlabel(\"Original\")\n",
        "plt.imshow(images_train[0], cmap=plt.cm.gray)"
      ],
      "execution_count": null,
      "outputs": [
        {
          "output_type": "execute_result",
          "data": {
            "text/plain": [
              "<matplotlib.image.AxesImage at 0x7f9a90794ac8>"
            ]
          },
          "metadata": {
            "tags": []
          },
          "execution_count": 9
        },
        {
          "output_type": "display_data",
          "data": {
            "image/png": "[encoded data removed]",
            "text/plain": [
              "<Figure size 720x720 with 2 Axes>"
            ]
          },
          "metadata": {
            "tags": []
          }
        }
      ]
    },
    {
      "metadata": {
        "id": "83eqrq0G1wnI"
      },
      "cell_type": "markdown",
      "source": [
        "## Model training"
      ]
    },
    {
      "metadata": {
        "id": "LLS7c7qD1wnI"
      },
      "cell_type": "code",
      "source": [
        "model = keras.models.Sequential([\n",
        "  keras.layers.Flatten(input_shape=(28,28)),\n",
        "  keras.layers.Dense(512, activation=tf.nn.relu),\n",
        "  keras.layers.Dropout(0.2),\n",
        "  keras.layers.Dense(512, activation=tf.nn.relu),\n",
        "  keras.layers.Dropout(0.2),\n",
        "  keras.layers.Dense(10, activation=tf.nn.softmax)\n",
        "])\n",
        "\n",
        "model.compile(optimizer='adam',\n",
        "              loss='sparse_categorical_crossentropy',\n",
        "              metrics=['accuracy'])"
      ],
      "execution_count": null,
      "outputs": []
    },
    {
      "metadata": {
        "id": "DBEIEN041wnK",
        "outputId": "6efdb9fa-3c26-45ba-cdf1-e859de5a923e",
        "colab": {
          "base_uri": "https://localhost:8080/",
          "height": 578
        }
      },
      "cell_type": "code",
      "source": [
        "model.fit(images_train, labels_train, epochs=16)"
      ],
      "execution_count": null,
      "outputs": [
        {
          "output_type": "stream",
          "text": [
            "Epoch 1/16\n",
            "60000/60000 [==============================] - 7s 110us/sample - loss: 0.2109 - accuracy: 0.9363\n",
            "Epoch 2/16\n",
            "60000/60000 [==============================] - 6s 103us/sample - loss: 0.1040 - accuracy: 0.9681\n",
            "Epoch 3/16\n",
            "60000/60000 [==============================] - 6s 102us/sample - loss: 0.0784 - accuracy: 0.9754\n",
            "Epoch 4/16\n",
            "60000/60000 [==============================] - 6s 103us/sample - loss: 0.0673 - accuracy: 0.9790\n",
            "Epoch 5/16\n",
            "60000/60000 [==============================] - 6s 103us/sample - loss: 0.0565 - accuracy: 0.9822\n",
            "Epoch 6/16\n",
            "60000/60000 [==============================] - 6s 102us/sample - loss: 0.0517 - accuracy: 0.9834\n",
            "Epoch 7/16\n",
            "60000/60000 [==============================] - 6s 103us/sample - loss: 0.0475 - accuracy: 0.9859\n",
            "Epoch 8/16\n",
            "60000/60000 [==============================] - 6s 102us/sample - loss: 0.0396 - accuracy: 0.9876\n",
            "Epoch 9/16\n",
            "60000/60000 [==============================] - 6s 103us/sample - loss: 0.0380 - accuracy: 0.9880\n",
            "Epoch 10/16\n",
            "60000/60000 [==============================] - 6s 103us/sample - loss: 0.0397 - accuracy: 0.9882\n",
            "Epoch 11/16\n",
            "60000/60000 [==============================] - 6s 105us/sample - loss: 0.0322 - accuracy: 0.9903\n",
            "Epoch 12/16\n",
            "60000/60000 [==============================] - 7s 117us/sample - loss: 0.0351 - accuracy: 0.9894\n",
            "Epoch 13/16\n",
            "60000/60000 [==============================] - 6s 106us/sample - loss: 0.0314 - accuracy: 0.9906\n",
            "Epoch 14/16\n",
            "60000/60000 [==============================] - 6s 102us/sample - loss: 0.0295 - accuracy: 0.9907\n",
            "Epoch 15/16\n",
            "60000/60000 [==============================] - 6s 103us/sample - loss: 0.0313 - accuracy: 0.9907\n",
            "Epoch 16/16\n",
            "60000/60000 [==============================] - 6s 103us/sample - loss: 0.0308 - accuracy: 0.9911\n"
          ],
          "name": "stdout"
        },
        {
          "output_type": "execute_result",
          "data": {
            "text/plain": [
              "<tensorflow.python.keras.callbacks.History at 0x7f9aa638bfd0>"
            ]
          },
          "metadata": {
            "tags": []
          },
          "execution_count": 11
        }
      ]
    },
    {
      "metadata": {
        "id": "ubA2c1Vn1wnO",
        "outputId": "befd33eb-8988-46b9-a536-4db399c58301",
        "colab": {
          "base_uri": "https://localhost:8080/",
          "height": 51
        }
      },
      "cell_type": "code",
      "source": [
        "test_loss, test_acc = model.evaluate(images_test, labels_test)\n",
        "print('Test accuracy:', test_acc)"
      ],
      "execution_count": null,
      "outputs": [
        {
          "output_type": "stream",
          "text": [
            "10000/10000 [==============================] - 1s 63us/sample - loss: 0.0963 - accuracy: 0.9834\n",
            "Test accuracy: 0.9834\n"
          ],
          "name": "stdout"
        }
      ]
    },
    {
      "metadata": {
        "id": "YlHRY2g71wnS"
      },
      "cell_type": "markdown",
      "source": [
        "## Model evaluation "
      ]
    },
    {
      "metadata": {
        "id": "WroRbSOz1wnT"
      },
      "cell_type": "markdown",
      "source": [
        "Let's take one image from the test set:"
      ]
    },
    {
      "metadata": {
        "id": "-YoSH55E1wnU"
      },
      "cell_type": "code",
      "source": [
        "example_img = images_test[0]"
      ],
      "execution_count": null,
      "outputs": []
    },
    {
      "metadata": {
        "id": "POWkedFa1wnX",
        "outputId": "59a96472-cd26-4742-ffc7-60916ad204c1",
        "colab": {
          "base_uri": "https://localhost:8080/",
          "height": 272
        }
      },
      "cell_type": "code",
      "source": [
        "plt.grid(False)\n",
        "plt.xticks([])\n",
        "plt.yticks([])\n",
        "plt.imshow(example_img, cmap=plt.cm.binary)"
      ],
      "execution_count": null,
      "outputs": [
        {
          "output_type": "execute_result",
          "data": {
            "text/plain": [
              "<matplotlib.image.AxesImage at 0x7f9a900af6a0>"
            ]
          },
          "metadata": {
            "tags": []
          },
          "execution_count": 14
        },
        {
          "output_type": "display_data",
          "data": {
            "image/png": "[encoded data removed]",
            "text/plain": [
              "<Figure size 432x288 with 1 Axes>"
            ]
          },
          "metadata": {
            "tags": []
          }
        }
      ]
    },
    {
      "metadata": {
        "id": "m3UC7DW-1wnb"
      },
      "cell_type": "markdown",
      "source": [
        "What does our prediction say?"
      ]
    },
    {
      "metadata": {
        "id": "n5Mj-xl01wnc",
        "outputId": "ac56e9b2-7c27-4c7d-cfcd-c5322257e32c",
        "colab": {
          "base_uri": "https://localhost:8080/",
          "height": 85
        }
      },
      "cell_type": "code",
      "source": [
        "example_img_as_input = (np.expand_dims(example_img,0))\n",
        "print(\"Image data shape:\", example_img_as_input.shape)\n",
        "\n",
        "img_prediction = model.predict(example_img_as_input)\n",
        "print(\"Prediction results:\", img_prediction)\n",
        "print(\"Predicted value:\", np.argmax(img_prediction))"
      ],
      "execution_count": null,
      "outputs": [
        {
          "output_type": "stream",
          "text": [
            "Image data shape: (1, 28, 28)\n",
            "Prediction results: [[1.0788933e-14 1.4650940e-12 6.0920223e-15 1.3272965e-11 7.1915976e-12\n",
            "  2.5384107e-14 1.5353486e-21 1.0000000e+00 8.4366954e-16 4.2043040e-09]]\n",
            "Predicted value: 7\n"
          ],
          "name": "stdout"
        }
      ]
    },
    {
      "metadata": {
        "id": "t7Ytv1DP1wng"
      },
      "cell_type": "markdown",
      "source": [
        "Visualise more predictions. Plot the first X test images, their predicted label, and the true label. Color correct predictions in blue, incorrect predictions in red."
      ]
    },
    {
      "metadata": {
        "id": "14Qafya71wnh"
      },
      "cell_type": "code",
      "source": [
        "# Helper functions\n",
        "\n",
        "import matplotlib.pyplot as plt\n",
        "import numpy as np\n",
        "\n",
        "\n",
        "def plot_image(i, predictions_array, true_label, img, class_names):\n",
        "    predictions_array, true_label, img = predictions_array[i], true_label[i], img[i]\n",
        "    plt.grid(False)\n",
        "    plt.xticks([])\n",
        "    plt.yticks([])\n",
        "\n",
        "    plt.imshow(img, cmap=plt.cm.binary)\n",
        "\n",
        "    predicted_label = np.argmax(predictions_array)\n",
        "    if predicted_label == true_label:\n",
        "        color = 'blue'\n",
        "    else:\n",
        "        color = 'red'\n",
        "\n",
        "    plt.xlabel(\"{} {:2.0f}% ({})\".format(class_names[predicted_label],\n",
        "                                         100 * np.max(predictions_array),\n",
        "                                         class_names[true_label]),\n",
        "               color=color)\n",
        "\n",
        "\n",
        "def plot_value_array(i, predictions_array, true_label):\n",
        "    predictions_array, true_label = predictions_array[i], true_label[i]\n",
        "    plt.grid(False)\n",
        "    plt.xticks([])\n",
        "    plt.yticks([])\n",
        "    thisplot = plt.bar(range(10), predictions_array, color=\"#777777\")\n",
        "    plt.ylim([0, 1])\n",
        "    predicted_label = np.argmax(predictions_array)\n",
        "\n",
        "    thisplot[predicted_label].set_color('red')\n",
        "    thisplot[true_label].set_color('blue')\n"
      ],
      "execution_count": null,
      "outputs": []
    },
    {
      "metadata": {
        "scrolled": true,
        "id": "VVjoDnZK1wnj",
        "outputId": "0979bc3a-53c4-4b39-f7f3-946f52b1681f",
        "colab": {
          "base_uri": "https://localhost:8080/",
          "height": 592
        }
      },
      "cell_type": "code",
      "source": [
        "predictions = model.predict(images_test)\n",
        "\n",
        "num_rows = 5\n",
        "num_cols = 3\n",
        "num_images = num_rows*num_cols\n",
        "plt.figure(figsize=(2  *2*num_cols, 2*num_rows))\n",
        "for i in range(num_images):\n",
        "  plt.subplot(num_rows, 2*num_cols, 2*i+1)\n",
        "  plot_image(i, predictions, labels_test, images_test, class_names)\n",
        "  plt.subplot(num_rows, 2*num_cols, 2*i+2)\n",
        "  plot_value_array(i, predictions, labels_test)"
      ],
      "execution_count": null,
      "outputs": [
        {
          "output_type": "display_data",
          "data": {
            "image/png": "[encoded data removed]",
            "text/plain": [
              "<Figure size 864x720 with 30 Axes>"
            ]
          },
          "metadata": {
            "tags": []
          }
        }
      ]
    },
    {
      "metadata": {
        "id": "mg-Jf7-C1wnl"
      },
      "cell_type": "markdown",
      "source": [
        "## Save and export model"
      ]
    },
    {
      "metadata": {
        "id": "T-hwtaKH1wnn",
        "outputId": "60eac138-fb58-4039-fa91-ffb7940e82d9",
        "colab": {
          "base_uri": "https://localhost:8080/",
          "height": 408
        }
      },
      "cell_type": "code",
      "source": [
        "model.summary()\n",
        "loss, acc = model.evaluate(images_test, labels_test)\n",
        "print(\"Restored model, accuracy: {:5.2f}%\".format(100*acc))\n",
        "print(\"Restored model, loss: {}\".format(loss))"
      ],
      "execution_count": null,
      "outputs": [
        {
          "output_type": "stream",
          "text": [
            "Model: \"sequential\"\n",
            "_________________________________________________________________\n",
            "Layer (type)                 Output Shape              Param #   \n",
            "=================================================================\n",
            "flatten (Flatten)            (None, 784)               0         \n",
            "_________________________________________________________________\n",
            "dense (Dense)                (None, 512)               401920    \n",
            "_________________________________________________________________\n",
            "dropout (Dropout)            (None, 512)               0         \n",
            "_________________________________________________________________\n",
            "dense_1 (Dense)              (None, 512)               262656    \n",
            "_________________________________________________________________\n",
            "dropout_1 (Dropout)          (None, 512)               0         \n",
            "_________________________________________________________________\n",
            "dense_2 (Dense)              (None, 10)                5130      \n",
            "=================================================================\n",
            "Total params: 669,706\n",
            "Trainable params: 669,706\n",
            "Non-trainable params: 0\n",
            "_________________________________________________________________\n",
            "10000/10000 [==============================] - 1s 59us/sample - loss: 0.0963 - accuracy: 0.9834\n",
            "Restored model, accuracy: 98.34%\n",
            "Restored model, loss: 0.09630093355918413\n"
          ],
          "name": "stdout"
        }
      ]
    },
    {
      "metadata": {
        "id": "CSHRXHzQ1wnp"
      },
      "cell_type": "code",
      "source": [
        "keras_mnist_model = 'mnist_model.h5'"
      ],
      "execution_count": null,
      "outputs": []
    },
    {
      "metadata": {
        "id": "u1CMauMT1wnq",
        "outputId": "311bc976-d303-45a0-91d2-d45a16d4b030",
        "colab": {
          "base_uri": "https://localhost:8080/",
          "height": 139
        }
      },
      "cell_type": "code",
      "source": [
        "keras.experimental.export_saved_model(model, keras_mnist_model)"
      ],
      "execution_count": null,
      "outputs": [
        {
          "output_type": "stream",
          "text": [
            "WARNING: Logging before flag parsing goes to stderr.\n",
            "W0423 21:27:17.186232 140304039348096 deprecation.py:323] From /usr/local/lib/python3.6/dist-packages/tensorflow/python/saved_model/signature_def_utils_impl.py:253: build_tensor_info (from tensorflow.python.saved_model.utils_impl) is deprecated and will be removed in a future version.\n",
            "Instructions for updating:\n",
            "This function will only be available through the v1 compatibility library as tf.compat.v1.saved_model.utils.build_tensor_info or tf.compat.v1.saved_model.build_tensor_info.\n",
            "W0423 21:27:17.188185 140304039348096 tf_logging.py:161] Export includes no default signature!\n",
            "W0423 21:27:17.698384 140304039348096 tf_logging.py:161] Export includes no default signature!\n"
          ],
          "name": "stderr"
        }
      ]
    },
    {
      "metadata": {
        "id": "V8WvLEMY1wns"
      },
      "cell_type": "markdown",
      "source": [
        "### Load saved model\n",
        "Just to make sure that it looks the same as the one that we created."
      ]
    },
    {
      "metadata": {
        "id": "O8j1n6UU1wns",
        "outputId": "b24040d2-6c05-45ce-ca55-799f50bec2b2",
        "colab": {
          "base_uri": "https://localhost:8080/",
          "height": 394
        }
      },
      "cell_type": "code",
      "source": [
        "new_model = keras.experimental.load_from_saved_model(keras_mnist_model)\n",
        "print(new_model.get_config())\n",
        "\n",
        "#Get input shape from model.get_config()\n",
        "new_model.build((None, 28, 28, 1))\n",
        "new_model.summary()"
      ],
      "execution_count": null,
      "outputs": [
        {
          "output_type": "stream",
          "text": [
            "{'name': 'sequential', 'layers': [{'class_name': 'Flatten', 'config': {'name': 'flatten', 'trainable': True, 'batch_input_shape': (None, 28, 28), 'dtype': 'float32', 'data_format': 'channels_last'}}, {'class_name': 'Dense', 'config': {'name': 'dense', 'trainable': True, 'dtype': 'float32', 'units': 512, 'activation': 'relu', 'use_bias': True, 'kernel_initializer': {'class_name': 'GlorotUniform', 'config': {'seed': None}}, 'bias_initializer': {'class_name': 'Zeros', 'config': {}}, 'kernel_regularizer': None, 'bias_regularizer': None, 'activity_regularizer': None, 'kernel_constraint': None, 'bias_constraint': None}}, {'class_name': 'Dropout', 'config': {'name': 'dropout', 'trainable': True, 'dtype': 'float32', 'rate': 0.2, 'noise_shape': None, 'seed': None}}, {'class_name': 'Dense', 'config': {'name': 'dense_1', 'trainable': True, 'dtype': 'float32', 'units': 512, 'activation': 'relu', 'use_bias': True, 'kernel_initializer': {'class_name': 'GlorotUniform', 'config': {'seed': None}}, 'bias_initializer': {'class_name': 'Zeros', 'config': {}}, 'kernel_regularizer': None, 'bias_regularizer': None, 'activity_regularizer': None, 'kernel_constraint': None, 'bias_constraint': None}}, {'class_name': 'Dropout', 'config': {'name': 'dropout_1', 'trainable': True, 'dtype': 'float32', 'rate': 0.2, 'noise_shape': None, 'seed': None}}, {'class_name': 'Dense', 'config': {'name': 'dense_2', 'trainable': True, 'dtype': 'float32', 'units': 10, 'activation': 'softmax', 'use_bias': True, 'kernel_initializer': {'class_name': 'GlorotUniform', 'config': {'seed': None}}, 'bias_initializer': {'class_name': 'Zeros', 'config': {}}, 'kernel_regularizer': None, 'bias_regularizer': None, 'activity_regularizer': None, 'kernel_constraint': None, 'bias_constraint': None}}]}\n",
            "Model: \"sequential\"\n",
            "_________________________________________________________________\n",
            "Layer (type)                 Output Shape              Param #   \n",
            "=================================================================\n",
            "flatten (Flatten)            (None, 784)               0         \n",
            "_________________________________________________________________\n",
            "dense (Dense)                (None, 512)               401920    \n",
            "_________________________________________________________________\n",
            "dropout (Dropout)            (None, 512)               0         \n",
            "_________________________________________________________________\n",
            "dense_1 (Dense)              (None, 512)               262656    \n",
            "_________________________________________________________________\n",
            "dropout_1 (Dropout)          (None, 512)               0         \n",
            "_________________________________________________________________\n",
            "dense_2 (Dense)              (None, 10)                5130      \n",
            "=================================================================\n",
            "Total params: 669,706\n",
            "Trainable params: 669,706\n",
            "Non-trainable params: 0\n",
            "_________________________________________________________________\n"
          ],
          "name": "stdout"
        }
      ]
    },
    {
      "metadata": {
        "id": "xflsSwY96Deo"
      },
      "cell_type": "code",
      "source": [
        "# The model has to be compiled before the evaluation\n",
        "new_model.compile(optimizer='adam',\n",
        "              loss='sparse_categorical_crossentropy',\n",
        "              metrics=['accuracy'])"
      ],
      "execution_count": null,
      "outputs": []
    },
    {
      "metadata": {
        "id": "pI-IcKZ81wnv",
        "outputId": "ea51f1be-2dd4-4c7a-b094-15db63976119",
        "colab": {
          "base_uri": "https://localhost:8080/",
          "height": 68
        }
      },
      "cell_type": "code",
      "source": [
        "loss, acc = new_model.evaluate(images_test, labels_test)\n",
        "print(\"Restored model, accuracy: {:5.2f}%\".format(100*acc))\n",
        "print(\"Restored model, loss: {}\".format(loss))"
      ],
      "execution_count": null,
      "outputs": [
        {
          "output_type": "stream",
          "text": [
            "10000/10000 [==============================] - 1s 65us/sample - loss: 0.0963 - accuracy: 0.9834\n",
            "Restored model, accuracy: 98.34%\n",
            "Restored model, loss: 0.09630093355918413\n"
          ],
          "name": "stdout"
        }
      ]
    },
    {
      "metadata": {
        "id": "UdFumS6U1wnx"
      },
      "cell_type": "markdown",
      "source": [
        "## Convert model to TensorFlow Lite"
      ]
    },
    {
      "metadata": {
        "id": "JpWgE7JQCkxd"
      },
      "cell_type": "markdown",
      "source": [
        "### Concrete function \n",
        "\n",
        "Because TensorFlow 2.0 has eager execution enabled by default (as the opposition to TensorFlow 1.x), we need to create concrete function from our model. More about why it has to be done this way can be found on the official documentation website: https://www.tensorflow.org/lite/r2/convert/concrete_function"
      ]
    },
    {
      "metadata": {
        "id": "JgCzarcI1wny",
        "outputId": "267953da-0ff7-4cbc-8d88-f323aba91f39",
        "colab": {
          "base_uri": "https://localhost:8080/",
          "height": 34
        }
      },
      "cell_type": "code",
      "source": [
        "tflite_mnist_model = \"mnist_model.tflite\"\n",
        "\n",
        "# Get the concrete function from the Keras model.\n",
        "run_model = tf.function(lambda x : model(x))\n",
        "\n",
        "# Save the concrete function.\n",
        "concrete_func = run_model.get_concrete_function(\n",
        "    tf.TensorSpec(model.inputs[0].shape, model.inputs[0].dtype)\n",
        ")\n",
        "\n",
        "# Convert the model.\n",
        "converter = tf.lite.TFLiteConverter.from_concrete_function(concrete_func)\n",
        "tflite_model = converter.convert()\n",
        "open(tflite_mnist_model, \"wb\").write(tflite_model)"
      ],
      "execution_count": null,
      "outputs": [
        {
          "output_type": "execute_result",
          "data": {
            "text/plain": [
              "5359976"
            ]
          },
          "metadata": {
            "tags": []
          },
          "execution_count": 25
        }
      ]
    },
    {
      "metadata": {
        "id": "R4LtHB5g1wn0"
      },
      "cell_type": "markdown",
      "source": [
        "(⚠️📲👀)\n",
        "\n",
        "Now learn more about out TensorFlow Lite model. You need to know those information when you will implement model in client app (Android, iOS, anything else using TensorFlow Lite)."
      ]
    },
    {
      "metadata": {
        "id": "csj95lWm1wn0",
        "outputId": "72a70101-a35d-4a5d-beb3-2ebbb3a5bcc8",
        "colab": {
          "base_uri": "https://localhost:8080/",
          "height": 292
        }
      },
      "cell_type": "code",
      "source": [
        "interpreter = tf.lite.Interpreter(model_path=tflite_mnist_model)\n",
        "interpreter.allocate_tensors()\n",
        "\n",
        "print(\"== Input details ==\")\n",
        "print(\"name:\", interpreter.get_input_details()[0]['name'])\n",
        "print(\"shape:\", interpreter.get_input_details()[0]['shape'])\n",
        "print(\"type:\", interpreter.get_input_details()[0]['dtype'])\n",
        "\n",
        "print(\"\\n== Output details ==\")\n",
        "print(\"name:\", interpreter.get_output_details()[0]['name'])\n",
        "print(\"shape:\", interpreter.get_output_details()[0]['shape'])\n",
        "print(\"type:\", interpreter.get_output_details()[0]['dtype'])\n",
        "\n",
        "print(\"\\nDUMP INPUT\")\n",
        "print(interpreter.get_input_details()[0])\n",
        "print(\"\\nDUMP OUTPUT\")\n",
        "print(interpreter.get_output_details()[0])"
      ],
      "execution_count": null,
      "outputs": [
        {
          "output_type": "stream",
          "text": [
            "== Input details ==\n",
            "name: x\n",
            "shape: [ 1 28 28]\n",
            "type: <class 'numpy.float32'>\n",
            "\n",
            "== Output details ==\n",
            "name: Identity\n",
            "shape: [ 1 10]\n",
            "type: <class 'numpy.float32'>\n",
            "\n",
            "DUMP INPUT\n",
            "{'name': 'x', 'index': 16, 'shape': array([ 1, 28, 28], dtype=int32), 'dtype': <class 'numpy.float32'>, 'quantization': (0.0, 0)}\n",
            "\n",
            "DUMP OUTPUT\n",
            "{'name': 'Identity', 'index': 0, 'shape': array([ 1, 10], dtype=int32), 'dtype': <class 'numpy.float32'>, 'quantization': (0.0, 0)}\n"
          ],
          "name": "stdout"
        }
      ]
    },
    {
      "metadata": {
        "id": "yFOGLLTF1wn2"
      },
      "cell_type": "markdown",
      "source": [
        "From input details we learn that input shape is [1 28 28] and its type - Float32. On mobile app we'll need to create byte array of size: 3136 bytes (28 x 28 x 4). 4 is size of Float32 value."
      ]
    },
    {
      "metadata": {
        "id": "_V0PaxI81wn2"
      },
      "cell_type": "markdown",
      "source": [
        "## TensorFlow Lite model evaluation\n",
        "Let's make sure our TF Lite model is still working after the conversion. \n",
        "\n",
        "Pick random image:"
      ]
    },
    {
      "metadata": {
        "id": "OOWg-Hwz1wn3",
        "outputId": "67bcde49-633a-4398-ed8c-cf085ff76694",
        "colab": {
          "base_uri": "https://localhost:8080/",
          "height": 272
        }
      },
      "cell_type": "code",
      "source": [
        "example_img_for_tflite = images_test[10]\n",
        "\n",
        "plt.grid(False)\n",
        "plt.xticks([])\n",
        "plt.yticks([])\n",
        "plt.imshow(example_img_for_tflite, cmap=plt.cm.binary)"
      ],
      "execution_count": null,
      "outputs": [
        {
          "output_type": "execute_result",
          "data": {
            "text/plain": [
              "<matplotlib.image.AxesImage at 0x7f9a7a235f28>"
            ]
          },
          "metadata": {
            "tags": []
          },
          "execution_count": 27
        },
        {
          "output_type": "display_data",
          "data": {
            "image/png": "[encoded data removed]",
            "text/plain": [
              "<Figure size 432x288 with 1 Axes>"
            ]
          },
          "metadata": {
            "tags": []
          }
        }
      ]
    },
    {
      "metadata": {
        "id": "4yj7YrCG1wn5"
      },
      "cell_type": "markdown",
      "source": [
        "Make sure that input data is matching to model's input and make a prediction! 🙂"
      ]
    },
    {
      "metadata": {
        "id": "gZ0R8zyO1wn7",
        "outputId": "6964d0d0-5690-4441-90cc-283f4388ca52",
        "colab": {
          "base_uri": "https://localhost:8080/",
          "height": 136
        }
      },
      "cell_type": "code",
      "source": [
        "example_img_for_tflite = np.expand_dims(example_img_for_tflite,0).astype(np.float32)\n",
        "print(\"Input data shape:\", example_img_for_tflite.shape)\n",
        "print(\"Input data type:\", example_img_for_tflite.dtype)\n",
        "\n",
        "input_details = interpreter.get_input_details()\n",
        "interpreter.set_tensor(input_details[0]['index'], example_img_for_tflite)\n",
        "\n",
        "interpreter.invoke()\n",
        "\n",
        "output_details = interpreter.get_output_details()\n",
        "output_data = interpreter.get_tensor(output_details[0]['index'])\n",
        "print(\"\\n\\nPrediction results:\", output_data)\n",
        "print(\"Predicted value:\", np.argmax(output_data))"
      ],
      "execution_count": null,
      "outputs": [
        {
          "output_type": "stream",
          "text": [
            "Input data shape: (1, 28, 28)\n",
            "Input data type: float32\n",
            "\n",
            "\n",
            "Prediction results: [[1.0000000e+00 1.0147444e-38 2.8911111e-24 5.7113098e-27 6.0094436e-28\n",
            "  2.0547044e-28 4.4531010e-19 2.9089317e-25 7.8072333e-36 8.1194458e-21]]\n",
            "Predicted value: 0\n"
          ],
          "name": "stdout"
        }
      ]
    },
    {
      "metadata": {
        "id": "XFZpbpV51wn-"
      },
      "cell_type": "markdown",
      "source": [
        "Classify image from the outside. Something similar what app will do."
      ]
    },
    {
      "metadata": {
        "id": "MJGz7M161wn_",
        "outputId": "a65058ca-b380-4281-bf04-796880b53f7c",
        "colab": {
          "base_uri": "https://localhost:8080/",
          "height": 306
        }
      },
      "cell_type": "code",
      "source": [
        "from PIL import Image\n",
        "import PIL.ImageOps  \n",
        "import requests\n",
        "\n",
        "imgUrl = \"https://raw.githubusercontent.com/frogermcs/MNIST-TFLite/master/notebooks/test.png\"\n",
        "img = Image.open(requests.get(imgUrl, stream=True).raw).convert('L')\n",
        "img.load()\n",
        "img = PIL.ImageOps.invert(img)\n",
        "data = np.asarray( img, dtype=\"int32\" )\n",
        "\n",
        "plt.grid(False)\n",
        "plt.xticks([])\n",
        "plt.yticks([])\n",
        "plt.imshow(data, cmap=plt.cm.binary)\n",
        "\n",
        "data = data / 255.0\n",
        "inputImg = np.expand_dims(data,0).astype(np.float32)\n",
        "inputImg.shape\n",
        "\n",
        "input_details = interpreter.get_input_details()\n",
        "interpreter.set_tensor(input_details[0]['index'], inputImg)\n",
        "\n",
        "interpreter.invoke()\n",
        "\n",
        "output_details = interpreter.get_output_details()\n",
        "output_data = interpreter.get_tensor(output_details[0]['index'])\n",
        "print(\"Prediction results:\", output_data)\n",
        "print(\"Predicted value:\", np.argmax(output_data))"
      ],
      "execution_count": null,
      "outputs": [
        {
          "output_type": "stream",
          "text": [
            "Prediction results: [[1.0000000e+00 0.0000000e+00 5.1312644e-32 1.6449590e-29 3.9925796e-41\n",
            "  5.1516724e-28 1.5349223e-27 5.5479912e-23 6.8388410e-40 6.2732055e-32]]\n",
            "Predicted value: 0\n"
          ],
          "name": "stdout"
        },
        {
          "output_type": "display_data",
          "data": {
            "image/png": "[encoded data removed]",
            "text/plain": [
              "<Figure size 432x288 with 1 Axes>"
            ]
          },
          "metadata": {
            "tags": []
          }
        }
      ]
    },
    {
      "metadata": {
        "id": "3ogB1RwW1woB"
      },
      "cell_type": "code",
      "source": [],
      "execution_count": null,
      "outputs": []
    }
  ]
}