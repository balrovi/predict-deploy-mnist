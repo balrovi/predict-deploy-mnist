{
 "nbformat": 4,
 "nbformat_minor": 0,
 "metadata": {
  "accelerator": "GPU",
  "colab": {
   "name": "model.ipynb",
   "provenance": [],
   "private_outputs": true,
   "collapsed_sections": []
  },
  "kernelspec": {
   "display_name": "Python 3",
   "language": "python",
   "name": "python3"
  },
  "language_info": {
   "codemirror_mode": {
    "name": "ipython",
    "version": 3
   },
   "file_extension": ".py",
   "mimetype": "text/x-python",
   "name": "python",
   "nbconvert_exporter": "python",
   "pygments_lexer": "ipython3",
   "version": "3.6.8"
  }
 },
 "cells": [
  {
   "cell_type": "code",
   "metadata": {
    "colab_type": "code",
    "id": "S89AJpQYG3du",
    "colab": {},
    "pycharm": {
     "name": "#%%\n"
    }
   },
   "source": [
    "import math\n",
    "\n",
    "import tensorflow as tf\n",
    "import tensorflow.keras.layers as layers\n",
    "import tensorflow_datasets as tfds\n",
    "from tensorflow.keras.callbacks import LearningRateScheduler\n",
    "from tensorflow.keras.initializers import Constant\n",
    "from tensorflow.keras.models import Model"
   ],
   "execution_count": 1,
   "outputs": []
  },
  {
   "cell_type": "code",
   "metadata": {
    "id": "Bpe2e0QhvLKX",
    "colab_type": "code",
    "colab": {},
    "pycharm": {
     "name": "#%%\n"
    }
   },
   "source": [
    "BATCH_SIZE = 128\n",
    "SAVED_MODEL_DIR = './saved_model'"
   ],
   "execution_count": 2,
   "outputs": []
  },
  {
   "cell_type": "code",
   "metadata": {
    "id": "fc96HiziSiOR",
    "colab_type": "code",
    "colab": {},
    "pycharm": {
     "name": "#%%\n"
    }
   },
   "source": [
    "(ds_train_data, ds_val_data), info = tfds.load(\n",
    "    name='mnist',\n",
    "    split=['train', 'test'],\n",
    "    with_info=True,\n",
    "    as_supervised=True,\n",
    ")\n",
    "\n",
    "num_classes = info.features['label'].num_classes"
   ],
   "execution_count": 3,
   "outputs": [
    {
     "name": "stdout",
     "output_type": "stream",
     "text": [
      "\u001B[1mDownloading and preparing dataset Unknown size (download: Unknown size, generated: Unknown size, total: Unknown size) to C:\\Users\\sbenelca\\tensorflow_datasets\\mnist\\3.0.1...\u001B[0m\n"
     ]
    },
    {
     "data": {
      "text/plain": "Dl Completed...: 0 url [00:00, ? url/s]",
      "application/vnd.jupyter.widget-view+json": {
       "version_major": 2,
       "version_minor": 0,
       "model_id": "0fba1c9d1dbf41818e8d212ee1e0e3f7"
      }
     },
     "metadata": {},
     "output_type": "display_data"
    },
    {
     "data": {
      "text/plain": "Dl Size...: 0 MiB [00:00, ? MiB/s]",
      "application/vnd.jupyter.widget-view+json": {
       "version_major": 2,
       "version_minor": 0,
       "model_id": "5051cae4d6204a9684cb6075a7261145"
      }
     },
     "metadata": {},
     "output_type": "display_data"
    },
    {
     "data": {
      "text/plain": "Extraction completed...: 0 file [00:00, ? file/s]",
      "application/vnd.jupyter.widget-view+json": {
       "version_major": 2,
       "version_minor": 0,
       "model_id": "f206bc4f933f4b9497e9b2345243756e"
      }
     },
     "metadata": {},
     "output_type": "display_data"
    },
    {
     "data": {
      "text/plain": "Generating splits...:   0%|          | 0/2 [00:00<?, ? splits/s]",
      "application/vnd.jupyter.widget-view+json": {
       "version_major": 2,
       "version_minor": 0,
       "model_id": "6c577e526b1d428f82ce30ad2d533e9b"
      }
     },
     "metadata": {},
     "output_type": "display_data"
    },
    {
     "data": {
      "text/plain": "Generating train examples...: 0 examples [00:00, ? examples/s]",
      "application/vnd.jupyter.widget-view+json": {
       "version_major": 2,
       "version_minor": 0,
       "model_id": "8bdc963500e74df496d2a0ca79f43abf"
      }
     },
     "metadata": {},
     "output_type": "display_data"
    },
    {
     "data": {
      "text/plain": "Shuffling C:\\Users\\sbenelca\\tensorflow_datasets\\mnist\\3.0.1.incompleteSAS9MR\\mnist-train.tfrecord*...:   0%|  …",
      "application/vnd.jupyter.widget-view+json": {
       "version_major": 2,
       "version_minor": 0,
       "model_id": "f41fccb740044de1a7cb095310f4b3a4"
      }
     },
     "metadata": {},
     "output_type": "display_data"
    },
    {
     "data": {
      "text/plain": "Generating test examples...: 0 examples [00:00, ? examples/s]",
      "application/vnd.jupyter.widget-view+json": {
       "version_major": 2,
       "version_minor": 0,
       "model_id": "8dbb527e47b44f359341a0a41ff1e3df"
      }
     },
     "metadata": {},
     "output_type": "display_data"
    },
    {
     "data": {
      "text/plain": "Shuffling C:\\Users\\sbenelca\\tensorflow_datasets\\mnist\\3.0.1.incompleteSAS9MR\\mnist-test.tfrecord*...:   0%|   …",
      "application/vnd.jupyter.widget-view+json": {
       "version_major": 2,
       "version_minor": 0,
       "model_id": "ae789c68fb67483da6ef1a33f37eddb6"
      }
     },
     "metadata": {},
     "output_type": "display_data"
    },
    {
     "name": "stdout",
     "output_type": "stream",
     "text": [
      "\u001B[1mDataset mnist downloaded and prepared to C:\\Users\\sbenelca\\tensorflow_datasets\\mnist\\3.0.1. Subsequent calls will reuse this data.\u001B[0m\n"
     ]
    }
   ]
  },
  {
   "cell_type": "code",
   "metadata": {
    "id": "x8N_qOpgSlLG",
    "colab_type": "code",
    "colab": {},
    "pycharm": {
     "name": "#%%\n"
    }
   },
   "source": [
    "def preprocess(image, label):\n",
    "    image = tf.cast(image, tf.float32)\n",
    "    image = image / 255.0\n",
    "    return image, label\n",
    "\n",
    "AUTOTUNE = tf.data.experimental.AUTOTUNE\n",
    "\n",
    "ds_train = (\n",
    "    ds_train_data\n",
    "    .map(preprocess, num_parallel_calls=AUTOTUNE)\n",
    "    .cache()\n",
    "    .shuffle(info.splits['train'].num_examples)\n",
    "    .batch(BATCH_SIZE)\n",
    "    .prefetch(AUTOTUNE)\n",
    ")\n",
    "\n",
    "ds_val = (\n",
    "    ds_val_data\n",
    "    .map(preprocess, AUTOTUNE)\n",
    "    .batch(BATCH_SIZE)\n",
    "    .cache()\n",
    "    .prefetch(AUTOTUNE)\n",
    ")"
   ],
   "execution_count": null,
   "outputs": []
  },
  {
   "cell_type": "code",
   "metadata": {
    "colab_type": "code",
    "id": "_Lq0YDUYiTMN",
    "colab": {},
    "pycharm": {
     "name": "#%%\n"
    }
   },
   "source": [
    "inputs = layers.Input(shape=(28, 28, 1), name='input')\n",
    "\n",
    "x = layers.Conv2D(24, kernel_size=(6, 6), strides=1)(inputs)\n",
    "x = layers.BatchNormalization(scale=False, beta_initializer=Constant(0.01))(x)\n",
    "x = layers.Activation('relu')(x)\n",
    "x = layers.Dropout(rate=0.25)(x)\n",
    "\n",
    "x = layers.Conv2D(48, kernel_size=(5, 5), strides=2)(x)\n",
    "x = layers.BatchNormalization(scale=False, beta_initializer=Constant(0.01))(x)\n",
    "x = layers.Activation('relu')(x)\n",
    "x = layers.Dropout(rate=0.25)(x)\n",
    "\n",
    "x = layers.Conv2D(64, kernel_size=(4, 4), strides=2)(x)\n",
    "x = layers.BatchNormalization(scale=False, beta_initializer=Constant(0.01))(x)\n",
    "x = layers.Activation('relu')(x)\n",
    "x = layers.Dropout(rate=0.25)(x)\n",
    "\n",
    "x = layers.Flatten()(x)\n",
    "x = layers.Dense(200)(x)\n",
    "x = layers.BatchNormalization(scale=False, beta_initializer=Constant(0.01))(x)\n",
    "x = layers.Activation('relu')(x)\n",
    "x = layers.Dropout(rate=0.25)(x)\n",
    "\n",
    "predications = layers.Dense(num_classes, activation='softmax', name='output')(x)\n",
    "\n",
    "model = Model(inputs=inputs, outputs=predications)\n",
    "model.compile(loss='sparse_categorical_crossentropy', optimizer='adam', metrics=['accuracy'])"
   ],
   "execution_count": null,
   "outputs": []
  },
  {
   "cell_type": "code",
   "metadata": {
    "colab_type": "code",
    "id": "nBzYWAEAiwzx",
    "colab": {},
    "pycharm": {
     "name": "#%%\n"
    }
   },
   "source": [
    "model.summary()"
   ],
   "execution_count": null,
   "outputs": []
  },
  {
   "cell_type": "code",
   "metadata": {
    "id": "7L0zZdYRw3C_",
    "colab_type": "code",
    "colab": {},
    "pycharm": {
     "name": "#%%\n"
    }
   },
   "source": [
    "lr_decay = lambda epoch: 0.0001 + 0.02 * math.pow(1.0 / math.e, epoch / 3.0)\n",
    "decay_callback = LearningRateScheduler(lr_decay, verbose=1)\n",
    "\n",
    "model.fit(\n",
    "    ds_train,\n",
    "    epochs=20,\n",
    "    validation_data=ds_val,\n",
    "    callbacks=[decay_callback],\n",
    "    verbose=1\n",
    ")"
   ],
   "execution_count": null,
   "outputs": []
  },
  {
   "cell_type": "code",
   "metadata": {
    "id": "SwCAPICrxmRc",
    "colab_type": "code",
    "colab": {},
    "pycharm": {
     "name": "#%%\n"
    }
   },
   "source": [
    "tf.saved_model.save(model, SAVED_MODEL_DIR)"
   ],
   "execution_count": null,
   "outputs": []
  },
  {
   "cell_type": "code",
   "metadata": {
    "id": "9XVL5ULexulp",
    "colab_type": "code",
    "colab": {},
    "pycharm": {
     "name": "#%%\n"
    }
   },
   "source": [
    "converter = tf.lite.TFLiteConverter.from_saved_model(SAVED_MODEL_DIR)\n",
    "# converter.optimizations = [tf.lite.Optimize.DEFAULT]\n",
    "# converter.target_spec.supported_types = [tf.float16]\n",
    "tflite_model = converter.convert()\n",
    "\n",
    "with open('mnist.tflite', 'wb') as f:\n",
    "    f.write(tflite_model)"
   ],
   "execution_count": null,
   "outputs": []
  },
  {
   "cell_type": "code",
   "metadata": {
    "colab_type": "code",
    "id": "51PTkdoPDOTW",
    "colab": {},
    "pycharm": {
     "name": "#%%\n"
    }
   },
   "source": [
    "try:\n",
    "    from google.colab import files\n",
    "    files.download('mnist.tflite')\n",
    "except:\n",
    "    print(\"Skip downloading\")"
   ],
   "execution_count": null,
   "outputs": []
  }
 ]
}